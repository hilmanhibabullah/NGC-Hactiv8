{
 "cells": [
  {
   "cell_type": "code",
   "execution_count": 10,
   "id": "0bbb6a90",
   "metadata": {},
   "outputs": [],
   "source": [
    "import sympy as sy \n",
    "x = sy.Symbol(\"x\",real=True)\n",
    "y = x**2+2*x+1\n",
    "y_2 = 4*x**3-3*x**2+2*x\n"
   ]
  },
  {
   "cell_type": "markdown",
   "id": "eb37a55f",
   "metadata": {},
   "source": [
    "Here is an animation of this process on the function $f(x)=\\dfrac{1}{4}x^4 - x^2 + \\dfrac{1}{2}$:we find that $f'(x)=x^3 - 2x$"
   ]
  },
  {
   "cell_type": "code",
   "execution_count": 4,
   "id": "cc625f64",
   "metadata": {},
   "outputs": [
    {
     "data": {
      "text/latex": [
       "$\\displaystyle x^{2} + 2 x + 1$"
      ],
      "text/plain": [
       "x**2 + 2*x + 1"
      ]
     },
     "execution_count": 4,
     "metadata": {},
     "output_type": "execute_result"
    }
   ],
   "source": [
    "y"
   ]
  },
  {
   "cell_type": "code",
   "execution_count": 5,
   "id": "3418033e",
   "metadata": {},
   "outputs": [
    {
     "data": {
      "text/latex": [
       "$\\displaystyle 4 x^{3} - 3 x^{2} + 2 x$"
      ],
      "text/plain": [
       "4*x**3 - 3*x**2 + 2*x"
      ]
     },
     "execution_count": 5,
     "metadata": {},
     "output_type": "execute_result"
    }
   ],
   "source": [
    "y_2"
   ]
  },
  {
   "cell_type": "code",
   "execution_count": 6,
   "id": "c228835d",
   "metadata": {},
   "outputs": [
    {
     "data": {
      "text/latex": [
       "$\\displaystyle 2 x + 2$"
      ],
      "text/plain": [
       "2*x + 2"
      ]
     },
     "execution_count": 6,
     "metadata": {},
     "output_type": "execute_result"
    }
   ],
   "source": [
    "y.diff(x)"
   ]
  },
  {
   "cell_type": "code",
   "execution_count": 7,
   "id": "9711cbab",
   "metadata": {},
   "outputs": [
    {
     "data": {
      "text/latex": [
       "$\\displaystyle 12 x^{2} - 6 x + 2$"
      ],
      "text/plain": [
       "12*x**2 - 6*x + 2"
      ]
     },
     "execution_count": 7,
     "metadata": {},
     "output_type": "execute_result"
    }
   ],
   "source": [
    "y_2.diff(x)"
   ]
  },
  {
   "cell_type": "markdown",
   "id": "5e497ae7",
   "metadata": {},
   "source": [
    "Here is an animation of this process on the function $f(x)=\\dfrac{1}{4}x^4 - x^2 + \\dfrac{1}{2}$:\n"
   ]
  },
  {
   "cell_type": "markdown",
   "id": "4ff02a92",
   "metadata": {},
   "source": [
    "we find that $f'(x)=x^3 - 2x$"
   ]
  },
  {
   "cell_type": "code",
   "execution_count": null,
   "id": "c63e3e67",
   "metadata": {},
   "outputs": [],
   "source": []
  }
 ],
 "metadata": {
  "kernelspec": {
   "display_name": "Python 3",
   "language": "python",
   "name": "python3"
  },
  "language_info": {
   "codemirror_mode": {
    "name": "ipython",
    "version": 3
   },
   "file_extension": ".py",
   "mimetype": "text/x-python",
   "name": "python",
   "nbconvert_exporter": "python",
   "pygments_lexer": "ipython3",
   "version": "3.8.8"
  }
 },
 "nbformat": 4,
 "nbformat_minor": 5
}
