{
 "cells": [
  {
   "cell_type": "code",
   "execution_count": 26,
   "id": "0bbb6a90",
   "metadata": {},
   "outputs": [],
   "source": [
    "import sympy as sy \n",
    "x = sy.Symbol(\"x\",real=True)\n",
    "y = x**2+2*x+1\n",
    "y2 = 4*x**3-3*x**2+2*x\n"
   ]
  },
  {
   "cell_type": "markdown",
   "id": "a032fcb0",
   "metadata": {},
   "source": [
    "i find that derivative $$y=x^2+2x+1$$ is $$f'(y)=2x+2$$ "
   ]
  },
  {
   "cell_type": "code",
   "execution_count": 27,
   "id": "cc625f64",
   "metadata": {},
   "outputs": [
    {
     "data": {
      "text/latex": [
       "$\\displaystyle x^{2} + 2 x + 1$"
      ],
      "text/plain": [
       "x**2 + 2*x + 1"
      ]
     },
     "execution_count": 27,
     "metadata": {},
     "output_type": "execute_result"
    }
   ],
   "source": [
    "#fungsi y\n",
    "y"
   ]
  },
  {
   "cell_type": "code",
   "execution_count": 28,
   "id": "3418033e",
   "metadata": {},
   "outputs": [
    {
     "data": {
      "text/latex": [
       "$\\displaystyle 2 x + 2$"
      ],
      "text/plain": [
       "2*x + 2"
      ]
     },
     "execution_count": 28,
     "metadata": {},
     "output_type": "execute_result"
    }
   ],
   "source": [
    "#turunan fungsi y\n",
    "y.diff(x)"
   ]
  },
  {
   "cell_type": "markdown",
   "id": "7cd78eda",
   "metadata": {},
   "source": [
    "i find that derivative $$y_2=4x^3-3x^2+2x$$ is $$f'(y_2)=12x^2-6x+2$$ "
   ]
  },
  {
   "cell_type": "code",
   "execution_count": 29,
   "id": "026ed179",
   "metadata": {},
   "outputs": [
    {
     "data": {
      "text/latex": [
       "$\\displaystyle 4 x^{3} - 3 x^{2} + 2 x$"
      ],
      "text/plain": [
       "4*x**3 - 3*x**2 + 2*x"
      ]
     },
     "execution_count": 29,
     "metadata": {},
     "output_type": "execute_result"
    }
   ],
   "source": [
    "#fungsi y_2\n",
    "y2"
   ]
  },
  {
   "cell_type": "code",
   "execution_count": 31,
   "id": "9711cbab",
   "metadata": {},
   "outputs": [
    {
     "data": {
      "text/latex": [
       "$\\displaystyle 12 x^{2} - 6 x + 2$"
      ],
      "text/plain": [
       "12*x**2 - 6*x + 2"
      ]
     },
     "execution_count": 31,
     "metadata": {},
     "output_type": "execute_result"
    }
   ],
   "source": [
    "#turunan fungsi y2\n",
    "y2.diff(x)"
   ]
  }
 ],
 "metadata": {
  "kernelspec": {
   "display_name": "Python 3",
   "language": "python",
   "name": "python3"
  },
  "language_info": {
   "codemirror_mode": {
    "name": "ipython",
    "version": 3
   },
   "file_extension": ".py",
   "mimetype": "text/x-python",
   "name": "python",
   "nbconvert_exporter": "python",
   "pygments_lexer": "ipython3",
   "version": "3.8.8"
  }
 },
 "nbformat": 4,
 "nbformat_minor": 5
}
