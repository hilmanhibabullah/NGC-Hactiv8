{
 "cells": [
  {
   "cell_type": "code",
   "execution_count": 10,
   "id": "7f992ff5",
   "metadata": {},
   "outputs": [],
   "source": [
    "import sympy as sy\n",
    "from IPython.display import Math"
   ]
  },
  {
   "cell_type": "markdown",
   "id": "3a3b6880",
   "metadata": {},
   "source": [
    "fungsi 1 $\\int  (3x^{2}-6x+3) , \\mathrm{d}x.$"
   ]
  },
  {
   "cell_type": "markdown",
   "id": "b597bfc8",
   "metadata": {},
   "source": [
    "fungsi 2 $\\int  (8x^{3}-x^{2}+5x-1) , \\mathrm{d}x.$"
   ]
  },
  {
   "cell_type": "code",
   "execution_count": 26,
   "id": "67b55d6a",
   "metadata": {},
   "outputs": [
    {
     "data": {
      "text/latex": [
       "$\\displaystyle x^{3} - 3 x^{2} + 3 x$"
      ],
      "text/plain": [
       "x**3 - 3*x**2 + 3*x"
      ]
     },
     "execution_count": 26,
     "metadata": {},
     "output_type": "execute_result"
    }
   ],
   "source": [
    "x = sy.Symbol(\"x\",real=True)\n",
    "#fungsi 1 integral\n",
    "y = 3*x**2-6*x+3\n",
    "sy.integrate(y)\n"
   ]
  },
  {
   "cell_type": "code",
   "execution_count": 27,
   "id": "8835c1ad",
   "metadata": {},
   "outputs": [
    {
     "data": {
      "text/latex": [
       "$\\displaystyle 2 x^{4} - \\frac{x^{3}}{3} + \\frac{5 x^{2}}{2} - x$"
      ],
      "text/plain": [
       "2*x**4 - x**3/3 + 5*x**2/2 - x"
      ]
     },
     "execution_count": 27,
     "metadata": {},
     "output_type": "execute_result"
    }
   ],
   "source": [
    "y = 8*x**3-x**2+5*x-1\n",
    "sy.integrate(y)"
   ]
  }
 ],
 "metadata": {
  "kernelspec": {
   "display_name": "Python 3",
   "language": "python",
   "name": "python3"
  },
  "language_info": {
   "codemirror_mode": {
    "name": "ipython",
    "version": 3
   },
   "file_extension": ".py",
   "mimetype": "text/x-python",
   "name": "python",
   "nbconvert_exporter": "python",
   "pygments_lexer": "ipython3",
   "version": "3.8.8"
  }
 },
 "nbformat": 4,
 "nbformat_minor": 5
}
