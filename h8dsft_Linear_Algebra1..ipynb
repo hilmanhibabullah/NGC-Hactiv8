{
 "cells": [
  {
   "cell_type": "code",
   "execution_count": 7,
   "id": "2bfc9a27",
   "metadata": {},
   "outputs": [],
   "source": [
    "import numpy as np"
   ]
  },
  {
   "cell_type": "code",
   "execution_count": 23,
   "id": "49dde2af",
   "metadata": {},
   "outputs": [
    {
     "name": "stdout",
     "output_type": "stream",
     "text": [
      "[[[[25 50]\n",
      "   [ 7 12]]]\n",
      "\n",
      "\n",
      " [[[57 67]\n",
      "   [99 43]]]\n",
      "\n",
      "\n",
      " [[[75 21]\n",
      "   [57 21]]]\n",
      "\n",
      "\n",
      " [[[87 26]\n",
      "   [18 84]]]]\n"
     ]
    }
   ],
   "source": [
    "#membuat tensor\n",
    "Tensor=np.array([\n",
    "                 [[[25,50],[7,12]]],[[[57,67],[99,43]]],\n",
    "                 [[[75,21],[57,21]]],[[[87,26],[18,84]]]])\n",
    "print(Tensor)"
   ]
  },
  {
   "cell_type": "code",
   "execution_count": 27,
   "id": "41bd2c52",
   "metadata": {},
   "outputs": [
    {
     "name": "stdout",
     "output_type": "stream",
     "text": [
      "[[ 25  50  19]\n",
      " [  7  12 109]\n",
      " [ 57  67  98]]\n",
      "[[[17]\n",
      "  [22]\n",
      "  [19]]]\n"
     ]
    }
   ],
   "source": [
    "matrx_a = np.array([[25,50,19],\n",
    "                   [7,12,109],\n",
    "                   [57,67,98]])\n",
    "matrx_b = np.array([[[17],\n",
    "                    [22],\n",
    "                    [19]]])\n",
    "print(matrx_a)\n",
    "print(matrx_b)"
   ]
  },
  {
   "cell_type": "code",
   "execution_count": 22,
   "id": "17711eee",
   "metadata": {},
   "outputs": [
    {
     "name": "stdout",
     "output_type": "stream",
     "text": [
      "[[[1886]\n",
      "  [2454]\n",
      "  [4305]]]\n"
     ]
    }
   ],
   "source": [
    "#perkalian matrix\n",
    "print(matrx_a@matrx_b)"
   ]
  },
  {
   "cell_type": "code",
   "execution_count": 29,
   "id": "1c852f07",
   "metadata": {},
   "outputs": [
    {
     "data": {
      "text/plain": [
       "array([[ 25,  50,  19],\n",
       "       [  7,  12, 109],\n",
       "       [ 57,  67,  98]])"
      ]
     },
     "execution_count": 29,
     "metadata": {},
     "output_type": "execute_result"
    }
   ],
   "source": [
    "matrx_a"
   ]
  },
  {
   "cell_type": "code",
   "execution_count": 28,
   "id": "dbdf19a1",
   "metadata": {},
   "outputs": [
    {
     "name": "stdout",
     "output_type": "stream",
     "text": [
      "[[ 25  50  19]\n",
      " [  7  12 109]\n",
      " [ 57  67  98]]\n",
      "transpose:\n",
      " [[ 25   7  57]\n",
      " [ 50  12  67]\n",
      " [ 19 109  98]]\n"
     ]
    }
   ],
   "source": [
    "#Transpose\n",
    "print(matrx_a)\n",
    "print('transpose:\\n',matrx_a.T)"
   ]
  },
  {
   "cell_type": "code",
   "execution_count": 30,
   "id": "3e970507",
   "metadata": {},
   "outputs": [
    {
     "name": "stdout",
     "output_type": "stream",
     "text": [
      "119090.0\n"
     ]
    }
   ],
   "source": [
    "#Determinant\n",
    "\n",
    "print(np.linalg.det(matrx_a))"
   ]
  },
  {
   "cell_type": "code",
   "execution_count": 33,
   "id": "45a8b2c5",
   "metadata": {},
   "outputs": [
    {
     "name": "stdout",
     "output_type": "stream",
     "text": [
      "[[-0.05144848 -0.03045596  0.04384919]\n",
      " [ 0.04641028  0.01147871 -0.02176505]\n",
      " [-0.00180536  0.00986649 -0.00041985]]\n"
     ]
    }
   ],
   "source": [
    "#Inverse Matriks\n",
    "\n",
    "print(np.linalg.inv(matrx_a))"
   ]
  },
  {
   "cell_type": "code",
   "execution_count": null,
   "id": "63f37e7c",
   "metadata": {},
   "outputs": [],
   "source": []
  }
 ],
 "metadata": {
  "kernelspec": {
   "display_name": "Python 3",
   "language": "python",
   "name": "python3"
  },
  "language_info": {
   "codemirror_mode": {
    "name": "ipython",
    "version": 3
   },
   "file_extension": ".py",
   "mimetype": "text/x-python",
   "name": "python",
   "nbconvert_exporter": "python",
   "pygments_lexer": "ipython3",
   "version": "3.8.8"
  }
 },
 "nbformat": 4,
 "nbformat_minor": 5
}
