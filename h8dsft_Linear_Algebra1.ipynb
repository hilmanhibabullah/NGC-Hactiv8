{
 "cells": [
  {
   "cell_type": "code",
   "execution_count": 1,
   "id": "f7e955e5",
   "metadata": {},
   "outputs": [],
   "source": [
    "import numpy as np"
   ]
  },
  {
   "cell_type": "code",
   "execution_count": 6,
   "id": "8a2c5dc9",
   "metadata": {},
   "outputs": [],
   "source": [
    "vect_a = np.array([17,22,19])\n",
    "vect_b = np.array([10,21,11])\n",
    "vect_c = np.array([5,12,9])"
   ]
  },
  {
   "cell_type": "code",
   "execution_count": 9,
   "id": "dca992c0",
   "metadata": {},
   "outputs": [
    {
     "name": "stdout",
     "output_type": "stream",
     "text": [
      "[27 43 30]\n",
      "[5 9 2]\n",
      "520\n",
      "[170 462 209]\n"
     ]
    }
   ],
   "source": [
    "penjumlahan = vect_a+vect_b\n",
    "print(penjumlahan)\n",
    "pengurangan = vect_b-vect_c\n",
    "print(pengurangan)\n",
    "dot_ac = vect_a@vect_c\n",
    "print(dot_ac)\n",
    "pengalian = vect_a*vect_b\n",
    "print(pengalian)"
   ]
  },
  {
   "cell_type": "code",
   "execution_count": 11,
   "id": "9d795e9a",
   "metadata": {},
   "outputs": [
    {
     "name": "stdout",
     "output_type": "stream",
     "text": [
      "33.67491648096547\n"
     ]
    }
   ],
   "source": [
    "v_norm = np.linalg.norm(vect_a)\n",
    "print(v_norm)"
   ]
  },
  {
   "cell_type": "code",
   "execution_count": 12,
   "id": "678ff646",
   "metadata": {},
   "outputs": [
    {
     "name": "stdout",
     "output_type": "stream",
     "text": [
      "0.9706451163531292\n"
     ]
    }
   ],
   "source": [
    "#cosine similarity\n",
    "cosine=(vect_a@vect_b)/(np.linalg.norm(vect_a) * np.linalg.norm(vect_b))\n",
    "print(cosine)"
   ]
  },
  {
   "cell_type": "code",
   "execution_count": 13,
   "id": "2f11fd2f",
   "metadata": {},
   "outputs": [
    {
     "name": "stdout",
     "output_type": "stream",
     "text": [
      "13.91701081586512\n"
     ]
    }
   ],
   "source": [
    "#Sudut antara vektor A dan B\n",
    "theta = np.arccos(cosine)\n",
    "print(np.rad2deg(theta))"
   ]
  },
  {
   "cell_type": "code",
   "execution_count": 15,
   "id": "7c8a27e3",
   "metadata": {},
   "outputs": [],
   "source": [
    "import matplotlib.pyplot as plt"
   ]
  },
  {
   "cell_type": "code",
   "execution_count": 16,
   "id": "d72c430d",
   "metadata": {},
   "outputs": [],
   "source": [
    "vect_u = np.array([2,5])\n",
    "vect_v = np.array([3,1])"
   ]
  },
  {
   "cell_type": "code",
   "execution_count": 24,
   "id": "9c9d5bb3",
   "metadata": {},
   "outputs": [
    {
     "data": {
      "image/png": "[encoded data removed]",
      "text/plain": [
       "<Figure size 432x288 with 1 Axes>"
      ]
     },
     "metadata": {
      "needs_background": "light"
     },
     "output_type": "display_data"
    }
   ],
   "source": [
    "x_coords, y_coords = zip(vect_u, vect_v)\n",
    "plt.scatter(x_coords, y_coords, color=[\"g\",\"b\"])\n",
    "plt.axis([1, 6, 1, 6])\n",
    "plt.grid()\n",
    "plt.show()"
   ]
  }
 ],
 "metadata": {
  "kernelspec": {
   "display_name": "Python 3",
   "language": "python",
   "name": "python3"
  },
  "language_info": {
   "codemirror_mode": {
    "name": "ipython",
    "version": 3
   },
   "file_extension": ".py",
   "mimetype": "text/x-python",
   "name": "python",
   "nbconvert_exporter": "python",
   "pygments_lexer": "ipython3",
   "version": "3.8.8"
  }
 },
 "nbformat": 4,
 "nbformat_minor": 5
}
